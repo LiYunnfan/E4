{
 "cells": [
  {
   "cell_type": "code",
   "execution_count": null,
   "id": "fd14b0fa",
   "metadata": {},
   "outputs": [],
   "source": [
    "import numpy as np\n",
    "from scipy.optimize import curve_fit\n",
    "import matplotlib.pyplot as plt\n",
    "\n",
    "#读取数据\n",
    "data = np.loadtxt('data.txt', usecols=(0,1))\n",
    "rx=data[:,0]\n",
    "r1=data[:,1]\n",
    "\n",
    "lambda_0=632.8 #在这里输入基准激光波长\n",
    "\n",
    "#拟合\n",
    "def func(x,k):\n",
    "    return k*x\n",
    "popt,pcov=curve_fit(func,rx,r1)\n",
    "lambda_xbest=popt[0]*lambda_0\n",
    "\n",
    "#计算标准差\n",
    "s=0\n",
    "lambda_xi=np.zeros(len(r1))\n",
    "for i in range(len(rx)):\n",
    "    s=s+((r1[i]*lambda_0/rx[i])-(lambda_xbest))**2\n",
    "    lambda_xi[i]=r1[i]*lambda_0/rx[i]\n",
    "s=np.sqrt(s/(len(r1)-1))\n",
    "\n",
    "print('第一次绿光波长的拟合值是'+str(lambda_xbest)+'nm')\n",
    "print('标准差是'+str(s)+'nm')\n",
    "print('检索并去除误差超过3sigma的数据点....')\n",
    "\n",
    "##除去3sigma点\n",
    "ind=np.empty(shape=(0,3))\n",
    "for i in range(len(r1)):\n",
    "    err=np.abs(lambda_xi[i]-lambda_xbest)\n",
    "    if err>=3*s:\n",
    "        print('除去第'+str(i)+'个点')\n",
    "        ind=np.append(ind,i)\n",
    "ind=ind.astype(int)\n",
    "rx=np.delete(rx,ind)\n",
    "r1=np.delete(r1,ind)\n",
    "\n",
    "#第二次拟合\n",
    "popt,pcov=curve_fit(func,rx,r1)\n",
    "lambda_xbest=popt[0]*lambda_0\n",
    "\n",
    "#第二次计算标准差\n",
    "s=0\n",
    "lambda_xi=np.zeros(len(r1))\n",
    "for i in range(len(r1)):\n",
    "    s=s+((r1[i]*lambda_0/rx[i])-(lambda_xbest))**2\n",
    "    lambda_xi[i]=r1[i]*lambda_0/rx[i]\n",
    "s=np.sqrt(s/(len(r1)-1))\n",
    "print('第二次绿光波长的最佳拟合值是'+str(lambda_xbest)+'nm')\n",
    "print('标准差是'+str(s)+'nm')"
   ]
  }
 ],
 "metadata": {
  "kernelspec": {
   "display_name": "Python 3 (ipykernel)",
   "language": "python",
   "name": "python3"
  },
  "language_info": {
   "codemirror_mode": {
    "name": "ipython",
    "version": 3
   },
   "file_extension": ".py",
   "mimetype": "text/x-python",
   "name": "python",
   "nbconvert_exporter": "python",
   "pygments_lexer": "ipython3",
   "version": "3.9.7"
  }
 },
 "nbformat": 4,
 "nbformat_minor": 5
}
